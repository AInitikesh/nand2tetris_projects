{
 "cells": [
  {
   "cell_type": "markdown",
   "metadata": {},
   "source": [
    "# Instructions\n",
    "* **Step 1** - install pillow and numpy using comand `pip install pillow numpy`\n",
    "* **Step 2** - You can download any font from [google fonts](https://fonts.google.com/) and updates the path in cell [2]\n",
    "* **Step 3** - Execute the complete script to CharacterWriter.jack file for the supplied font file. "
   ]
  },
  {
   "cell_type": "code",
   "execution_count": 1,
   "metadata": {},
   "outputs": [],
   "source": [
    "import numpy as np\n",
    "from PIL import Image, ImageFont, ImageDraw"
   ]
  },
  {
   "cell_type": "code",
   "execution_count": 2,
   "metadata": {},
   "outputs": [],
   "source": [
    "font = ImageFont.truetype(\"MochiyPopOne-Regular.ttf\", 14)"
   ]
  },
  {
   "cell_type": "code",
   "execution_count": 3,
   "metadata": {},
   "outputs": [],
   "source": [
    "def getImage(character):\n",
    "    width, height = font.getsize(character)\n",
    "    img = Image.new(\"1\", (16, 16))\n",
    "    draw = ImageDraw.Draw(img)\n",
    "    font_color = \"#FFFFFF\"\n",
    "    draw.text(((16 - width) // 2, 16 - height), character, font=font, fill=font_color)\n",
    "    return img"
   ]
  },
  {
   "cell_type": "code",
   "execution_count": 11,
   "metadata": {},
   "outputs": [],
   "source": [
    "asciiChars = {i: chr(i) for i in range(32, 127)}"
   ]
  },
  {
   "cell_type": "code",
   "execution_count": 12,
   "metadata": {},
   "outputs": [],
   "source": [
    "def getFunction(key, character):\n",
    "    img = getImage(character)\n",
    "    function = ['    if (key = '+ str(key) +')  { ']\n",
    "    for i, x in enumerate(np.array(img)):\n",
    "        x = list(reversed(x))\n",
    "        convertedInt = int(''.join(map(str, map(int, x))), 2)\n",
    "        word = int.from_bytes(convertedInt.to_bytes(2, 'big'), \"big\", signed=\"True\")\n",
    "        function.append(f'    do Memory.poke(memAddress+{i*32}, {word});')\n",
    "    function += ['    return;']\n",
    "    function = \"\\n        \".join(function)\n",
    "    return function + '\\n        }'"
   ]
  },
  {
   "cell_type": "code",
   "execution_count": 13,
   "metadata": {},
   "outputs": [
    {
     "name": "stderr",
     "output_type": "stream",
     "text": [
      "/var/folders/bs/kcg6xmtd2wdf1rtysl3md1tr0000gn/T/ipykernel_71420/4228422733.py:2: DeprecationWarning: getsize is deprecated and will be removed in Pillow 10 (2023-07-01). Use getbbox or getlength instead.\n",
      "  width, height = font.getsize(character)\n"
     ]
    }
   ],
   "source": [
    "class_implementation = ['class CharacterWriter {', 'function void write(int key, int location){', '    var int memAddress;', '    let memAddress = 16384+location;']\n",
    "for k, v in asciiChars.items():\n",
    "    class_implementation.append(getFunction(k, v))\n",
    "class_implementation += ['    return;\\n    }']\n",
    "class_implementation = \"\\n    \".join(class_implementation)\n",
    "class_implementation += '\\n}'"
   ]
  },
  {
   "cell_type": "code",
   "execution_count": 14,
   "metadata": {},
   "outputs": [],
   "source": [
    "with open('CharacterWriter.jack', 'w') as f:\n",
    "    f.write(class_implementation)"
   ]
  },
  {
   "cell_type": "code",
   "execution_count": null,
   "metadata": {},
   "outputs": [],
   "source": []
  }
 ],
 "metadata": {
  "kernelspec": {
   "display_name": "Python (nand2tetris)",
   "language": "python",
   "name": "nand2tetris"
  },
  "language_info": {
   "codemirror_mode": {
    "name": "ipython",
    "version": 3
   },
   "file_extension": ".py",
   "mimetype": "text/x-python",
   "name": "python",
   "nbconvert_exporter": "python",
   "pygments_lexer": "ipython3",
   "version": "3.10.4"
  }
 },
 "nbformat": 4,
 "nbformat_minor": 4
}
